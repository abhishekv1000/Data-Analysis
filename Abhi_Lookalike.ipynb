{
 "cells": [
  {
   "cell_type": "code",
   "execution_count": 9,
   "metadata": {
    "vscode": {
     "languageId": "plaintext"
    }
   },
   "outputs": [],
   "source": [
    "from sklearn.metrics.pairwise import cosine_similarity\n",
    "from sklearn.preprocessing import StandardScaler\n",
    "import pandas as pd\n"
   ]
  },
  {
   "cell_type": "code",
   "execution_count": 10,
   "metadata": {
    "vscode": {
     "languageId": "plaintext"
    }
   },
   "outputs": [],
   "source": [
    "customers_df = pd.read_csv('Customers.csv')\n",
    "transactions_df = pd.read_csv('Transactions.csv')\n"
   ]
  },
  {
   "cell_type": "code",
   "execution_count": 11,
   "metadata": {
    "vscode": {
     "languageId": "plaintext"
    }
   },
   "outputs": [],
   "source": [
    "customer_transactions = transactions_df.groupby('CustomerID').agg(\n",
    "    total_spent=('TotalValue', 'sum'),\n",
    "    transaction_count=('TransactionID', 'count'),\n",
    "    unique_products=('ProductID', 'nunique')\n",
    ")\n"
   ]
  },
  {
   "cell_type": "code",
   "execution_count": 12,
   "metadata": {
    "vscode": {
     "languageId": "plaintext"
    }
   },
   "outputs": [],
   "source": [
    "customer_profiles = pd.merge(customers_df, customer_transactions, on='CustomerID')"
   ]
  },
  {
   "cell_type": "code",
   "execution_count": 13,
   "metadata": {
    "vscode": {
     "languageId": "plaintext"
    }
   },
   "outputs": [],
   "source": [
    "scaler = StandardScaler()\n",
    "scaled_profiles = scaler.fit_transform(customer_profiles[['total_spent', 'transaction_count', 'unique_products']])\n"
   ]
  },
  {
   "cell_type": "code",
   "execution_count": 14,
   "metadata": {
    "vscode": {
     "languageId": "plaintext"
    }
   },
   "outputs": [],
   "source": [
    "# Calculate similarity using cosine similarity\n",
    "similarity_matrix = cosine_similarity(scaled_profiles)"
   ]
  },
  {
   "cell_type": "code",
   "execution_count": 15,
   "metadata": {
    "vscode": {
     "languageId": "plaintext"
    }
   },
   "outputs": [],
   "source": [
    "# Function to get top 3 similar customers\n",
    "def get_top_3_similar_customers(customer_id):\n",
    "    sim_scores = similarity_matrix[customer_id]  # similarity_matrix is calculated using cosine similarity\n",
    "    sim_scores_with_ids = list(enumerate(sim_scores))\n",
    "    sim_scores_with_ids.sort(key=lambda x: x[1], reverse=True)  # Sort by similarity score in descending order\n",
    "    top_3_similar = sim_scores_with_ids[1:4]  # Skip the first one as it's the customer itself\n",
    "    return [(customer_profiles.iloc[x[0]]['CustomerID'], x[1]) for x in top_3_similar]\n"
   ]
  },
  {
   "cell_type": "code",
   "execution_count": 16,
   "metadata": {
    "vscode": {
     "languageId": "plaintext"
    }
   },
   "outputs": [],
   "source": [
    "lookalike_data = []"
   ]
  },
  {
   "cell_type": "code",
   "execution_count": 17,
   "metadata": {
    "vscode": {
     "languageId": "plaintext"
    }
   },
   "outputs": [],
   "source": [
    "for customer_id in range(20):\n",
    "    similar_customers = get_top_3_similar_customers(customer_id)\n",
    "    \n",
    "    # Flatten the list of tuples (CustomerID, Score) and store it\n",
    "    lookalike_data.append([\n",
    "        customer_profiles.iloc[customer_id]['CustomerID'],\n",
    "        similar_customers[0][0], similar_customers[0][1],  # CustomerID_1, Score_1\n",
    "        similar_customers[1][0], similar_customers[1][1],  # CustomerID_2, Score_2\n",
    "        similar_customers[2][0], similar_customers[2][1]   # CustomerID_3, Score_3\n",
    "    ])"
   ]
  },
  {
   "cell_type": "code",
   "execution_count": 18,
   "metadata": {},
   "outputs": [],
   "source": [
    "lookalike_df = pd.DataFrame(\n",
    "    lookalike_data, \n",
    "    columns=[\"Original_CustomerID\", \"CustomerID_1\", \"Score_1\", \"CustomerID_2\", \"Score_2\", \"CustomerID_3\", \"Score_3\"]\n",
    ")\n"
   ]
  },
  {
   "cell_type": "code",
   "execution_count": 19,
   "metadata": {},
   "outputs": [],
   "source": [
    "lookalike_df.to_csv('Abhi_Lookalike.csv', index=False)"
   ]
  },
  {
   "cell_type": "code",
   "execution_count": 20,
   "metadata": {},
   "outputs": [
    {
     "name": "stdout",
     "output_type": "stream",
     "text": [
      "  Original_CustomerID CustomerID_1   Score_1 CustomerID_2   Score_2  \\\n",
      "0               C0001        C0137  0.996332        C0152  0.986905   \n",
      "1               C0002        C0029  0.999758        C0199  0.999347   \n",
      "2               C0003        C0178  0.999949        C0112  0.999570   \n",
      "3               C0004        C0021  0.999903        C0075  0.999775   \n",
      "4               C0005        C0073  0.999966        C0144  0.999954   \n",
      "\n",
      "  CustomerID_3   Score_3  \n",
      "0        C0056  0.930427  \n",
      "1        C0010  0.999182  \n",
      "2        C0131  0.999570  \n",
      "3        C0108  0.999315  \n",
      "4        C0095  0.999947  \n"
     ]
    }
   ],
   "source": [
    "print(lookalike_df.head())"
   ]
  }
 ],
 "metadata": {
  "kernelspec": {
   "display_name": "Python 3 (ipykernel)",
   "language": "python",
   "name": "python3"
  },
  "language_info": {
   "codemirror_mode": {
    "name": "ipython",
    "version": 3
   },
   "file_extension": ".py",
   "mimetype": "text/x-python",
   "name": "python",
   "nbconvert_exporter": "python",
   "pygments_lexer": "ipython3",
   "version": "3.12.1"
  }
 },
 "nbformat": 4,
 "nbformat_minor": 4
}
